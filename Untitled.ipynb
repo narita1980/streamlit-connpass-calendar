{
 "cells": [
  {
   "cell_type": "code",
   "execution_count": 44,
   "id": "other-member",
   "metadata": {},
   "outputs": [],
   "source": [
    "import requests\n",
    "import datetime\n",
    "\n",
    "now = datetime.date.today().strftime('%Y%m%d')\n",
    "url = 'https://connpass.com/api/v1/event/?count=100&ymd=' + now\n",
    "r = requests.get(url)"
   ]
  },
  {
   "cell_type": "code",
   "execution_count": 45,
   "id": "alleged-toyota",
   "metadata": {},
   "outputs": [
    {
     "data": {
      "text/plain": [
       "'https://connpass.com/api/v1/event/?count=100&ymd=20210407'"
      ]
     },
     "execution_count": 45,
     "metadata": {},
     "output_type": "execute_result"
    }
   ],
   "source": [
    "url"
   ]
  },
  {
   "cell_type": "code",
   "execution_count": 46,
   "id": "suburban-drunk",
   "metadata": {},
   "outputs": [],
   "source": [
    "events = r.json()['events']"
   ]
  },
  {
   "cell_type": "code",
   "execution_count": 47,
   "id": "spectacular-implement",
   "metadata": {},
   "outputs": [
    {
     "data": {
      "text/plain": [
       "59"
      ]
     },
     "execution_count": 47,
     "metadata": {},
     "output_type": "execute_result"
    }
   ],
   "source": [
    "len(events)"
   ]
  },
  {
   "cell_type": "code",
   "execution_count": 42,
   "id": "whole-stake",
   "metadata": {},
   "outputs": [],
   "source": [
    "import pandas as pd\n",
    "import datetime\n",
    "\n",
    "df = pd.DataFrame()\n",
    "for i, event in enumerate(events):\n",
    "    event.pop('series', None)\n",
    "    started_at = datetime.datetime.fromisoformat(event['started_at'])\n",
    "    event['started_at'] = started_at.strftime('%Y/%m/%d %H:%M')\n",
    "    _df = pd.DataFrame(event, index=[i, ])\n",
    "    df = df.append(_df)\n",
    "#    print(i, channel)"
   ]
  },
  {
   "cell_type": "code",
   "execution_count": 38,
   "id": "united-banks",
   "metadata": {},
   "outputs": [
    {
     "data": {
      "text/plain": [
       "'2021/04/07 06:00〜'"
      ]
     },
     "execution_count": 38,
     "metadata": {},
     "output_type": "execute_result"
    }
   ],
   "source": [
    "from pytz import timezone\n",
    "import datetime\n",
    "\n",
    "\n",
    "\"\"\"\n",
    "datetimeからstringへ変換\n",
    "\"\"\"\n",
    "now = datetime.datetime.fromisoformat('2021-04-07T06:00:00+09:00')\n",
    "now.strftime('%Y/%m/%d %H:%M〜') # => '2019年08月02日'"
   ]
  },
  {
   "cell_type": "code",
   "execution_count": 36,
   "id": "satisfied-photographer",
   "metadata": {},
   "outputs": [
    {
     "data": {
      "text/plain": [
       "Index(['event_id', 'title', 'catch', 'description', 'event_url', 'started_at',\n",
       "       'ended_at', 'limit', 'hash_tag', 'event_type', 'accepted', 'waiting',\n",
       "       'updated_at', 'owner_id', 'owner_nickname', 'owner_display_name',\n",
       "       'place', 'address', 'lat', 'lon'],\n",
       "      dtype='object')"
      ]
     },
     "execution_count": 36,
     "metadata": {},
     "output_type": "execute_result"
    }
   ],
   "source": [
    "df.columns"
   ]
  },
  {
   "cell_type": "code",
   "execution_count": 43,
   "id": "indoor-branch",
   "metadata": {},
   "outputs": [
    {
     "data": {
      "text/html": [
       "<div>\n",
       "<style scoped>\n",
       "    .dataframe tbody tr th:only-of-type {\n",
       "        vertical-align: middle;\n",
       "    }\n",
       "\n",
       "    .dataframe tbody tr th {\n",
       "        vertical-align: top;\n",
       "    }\n",
       "\n",
       "    .dataframe thead th {\n",
       "        text-align: right;\n",
       "    }\n",
       "</style>\n",
       "<table border=\"1\" class=\"dataframe\">\n",
       "  <thead>\n",
       "    <tr style=\"text-align: right;\">\n",
       "      <th></th>\n",
       "      <th>event_id</th>\n",
       "      <th>title</th>\n",
       "      <th>catch</th>\n",
       "      <th>description</th>\n",
       "      <th>event_url</th>\n",
       "      <th>started_at</th>\n",
       "      <th>ended_at</th>\n",
       "      <th>limit</th>\n",
       "      <th>hash_tag</th>\n",
       "      <th>event_type</th>\n",
       "      <th>accepted</th>\n",
       "      <th>waiting</th>\n",
       "      <th>updated_at</th>\n",
       "      <th>owner_id</th>\n",
       "      <th>owner_nickname</th>\n",
       "      <th>owner_display_name</th>\n",
       "      <th>place</th>\n",
       "      <th>address</th>\n",
       "      <th>lat</th>\n",
       "      <th>lon</th>\n",
       "    </tr>\n",
       "  </thead>\n",
       "  <tbody>\n",
       "    <tr>\n",
       "      <th>0</th>\n",
       "      <td>205267</td>\n",
       "      <td>保険×AI×プラットフォーム（フィンテックエンジニア養成勉強会#14）</td>\n",
       "      <td></td>\n",
       "      <td>&lt;p&gt;&lt;b&gt;&lt;span style=\"color: red;\"&gt;(4/1更新)好評につき10...</td>\n",
       "      <td>https://fintech-engineer.connpass.com/event/20...</td>\n",
       "      <td>2021/04/08 19:00</td>\n",
       "      <td>2021-04-08T21:00:00+09:00</td>\n",
       "      <td>510</td>\n",
       "      <td>finengine</td>\n",
       "      <td>participation</td>\n",
       "      <td>364</td>\n",
       "      <td>0</td>\n",
       "      <td>2021-04-07T07:28:31+09:00</td>\n",
       "      <td>5763</td>\n",
       "      <td>abenben</td>\n",
       "      <td>あべんべん</td>\n",
       "      <td>オンライン</td>\n",
       "      <td></td>\n",
       "      <td>None</td>\n",
       "      <td>None</td>\n",
       "    </tr>\n",
       "    <tr>\n",
       "      <th>1</th>\n",
       "      <td>209929</td>\n",
       "      <td>デイリーもくもく会 2021 #006</td>\n",
       "      <td></td>\n",
       "      <td>&lt;h2&gt;ご挨拶&lt;/h2&gt;\\n&lt;p&gt;Youtube上で毎朝もくもく会を行うことにいたしました。...</td>\n",
       "      <td>https://jimotolabo-workgroup.connpass.com/even...</td>\n",
       "      <td>2021/04/12 06:00</td>\n",
       "      <td>2021-04-12T08:00:00+09:00</td>\n",
       "      <td>None</td>\n",
       "      <td>もくもく会,オンライン,Youtube</td>\n",
       "      <td>participation</td>\n",
       "      <td>0</td>\n",
       "      <td>0</td>\n",
       "      <td>2021-04-07T06:44:43+09:00</td>\n",
       "      <td>550491</td>\n",
       "      <td>jl_jimotolabo</td>\n",
       "      <td>jl_jimotolabo</td>\n",
       "      <td>None</td>\n",
       "      <td>None</td>\n",
       "      <td>None</td>\n",
       "      <td>None</td>\n",
       "    </tr>\n",
       "    <tr>\n",
       "      <th>2</th>\n",
       "      <td>209927</td>\n",
       "      <td>デイリーもくもく会 2021 #005</td>\n",
       "      <td></td>\n",
       "      <td>&lt;h2&gt;ご挨拶&lt;/h2&gt;\\n&lt;p&gt;Youtube上で毎朝もくもく会を行うことにいたしました。...</td>\n",
       "      <td>https://jimotolabo-workgroup.connpass.com/even...</td>\n",
       "      <td>2021/04/11 06:00</td>\n",
       "      <td>2021-04-11T08:00:00+09:00</td>\n",
       "      <td>None</td>\n",
       "      <td>もくもく会,オンライン,Youtube</td>\n",
       "      <td>participation</td>\n",
       "      <td>0</td>\n",
       "      <td>0</td>\n",
       "      <td>2021-04-07T06:44:08+09:00</td>\n",
       "      <td>550491</td>\n",
       "      <td>jl_jimotolabo</td>\n",
       "      <td>jl_jimotolabo</td>\n",
       "      <td>None</td>\n",
       "      <td>None</td>\n",
       "      <td>None</td>\n",
       "      <td>None</td>\n",
       "    </tr>\n",
       "    <tr>\n",
       "      <th>3</th>\n",
       "      <td>209928</td>\n",
       "      <td>デイリーもくもく会 2021 #004</td>\n",
       "      <td></td>\n",
       "      <td>&lt;h2&gt;ご挨拶&lt;/h2&gt;\\n&lt;p&gt;Youtube上で毎朝もくもく会を行うことにいたしました。...</td>\n",
       "      <td>https://jimotolabo-workgroup.connpass.com/even...</td>\n",
       "      <td>2021/04/10 06:00</td>\n",
       "      <td>2021-04-10T08:00:00+09:00</td>\n",
       "      <td>None</td>\n",
       "      <td>もくもく会,オンライン,Youtube</td>\n",
       "      <td>participation</td>\n",
       "      <td>0</td>\n",
       "      <td>0</td>\n",
       "      <td>2021-04-07T06:43:32+09:00</td>\n",
       "      <td>550491</td>\n",
       "      <td>jl_jimotolabo</td>\n",
       "      <td>jl_jimotolabo</td>\n",
       "      <td>None</td>\n",
       "      <td>None</td>\n",
       "      <td>None</td>\n",
       "      <td>None</td>\n",
       "    </tr>\n",
       "    <tr>\n",
       "      <th>4</th>\n",
       "      <td>209926</td>\n",
       "      <td>デイリーもくもく会 2021 #002</td>\n",
       "      <td></td>\n",
       "      <td>&lt;h2&gt;ご挨拶&lt;/h2&gt;\\n&lt;p&gt;Youtube上で毎朝もくもく会を行うことにいたしました。...</td>\n",
       "      <td>https://jimotolabo-workgroup.connpass.com/even...</td>\n",
       "      <td>2021/04/09 06:00</td>\n",
       "      <td>2021-04-09T08:00:00+09:00</td>\n",
       "      <td>None</td>\n",
       "      <td>もくもく会,オンライン,Youtube</td>\n",
       "      <td>participation</td>\n",
       "      <td>0</td>\n",
       "      <td>0</td>\n",
       "      <td>2021-04-07T06:42:30+09:00</td>\n",
       "      <td>550491</td>\n",
       "      <td>jl_jimotolabo</td>\n",
       "      <td>jl_jimotolabo</td>\n",
       "      <td>None</td>\n",
       "      <td>None</td>\n",
       "      <td>None</td>\n",
       "      <td>None</td>\n",
       "    </tr>\n",
       "  </tbody>\n",
       "</table>\n",
       "</div>"
      ],
      "text/plain": [
       "   event_id                                title catch  \\\n",
       "0    205267  保険×AI×プラットフォーム（フィンテックエンジニア養成勉強会#14）         \n",
       "1    209929                  デイリーもくもく会 2021 #006         \n",
       "2    209927                  デイリーもくもく会 2021 #005         \n",
       "3    209928                  デイリーもくもく会 2021 #004         \n",
       "4    209926                  デイリーもくもく会 2021 #002         \n",
       "\n",
       "                                         description  \\\n",
       "0  <p><b><span style=\"color: red;\">(4/1更新)好評につき10...   \n",
       "1  <h2>ご挨拶</h2>\\n<p>Youtube上で毎朝もくもく会を行うことにいたしました。...   \n",
       "2  <h2>ご挨拶</h2>\\n<p>Youtube上で毎朝もくもく会を行うことにいたしました。...   \n",
       "3  <h2>ご挨拶</h2>\\n<p>Youtube上で毎朝もくもく会を行うことにいたしました。...   \n",
       "4  <h2>ご挨拶</h2>\\n<p>Youtube上で毎朝もくもく会を行うことにいたしました。...   \n",
       "\n",
       "                                           event_url        started_at  \\\n",
       "0  https://fintech-engineer.connpass.com/event/20...  2021/04/08 19:00   \n",
       "1  https://jimotolabo-workgroup.connpass.com/even...  2021/04/12 06:00   \n",
       "2  https://jimotolabo-workgroup.connpass.com/even...  2021/04/11 06:00   \n",
       "3  https://jimotolabo-workgroup.connpass.com/even...  2021/04/10 06:00   \n",
       "4  https://jimotolabo-workgroup.connpass.com/even...  2021/04/09 06:00   \n",
       "\n",
       "                    ended_at limit             hash_tag     event_type  \\\n",
       "0  2021-04-08T21:00:00+09:00   510            finengine  participation   \n",
       "1  2021-04-12T08:00:00+09:00  None  もくもく会,オンライン,Youtube  participation   \n",
       "2  2021-04-11T08:00:00+09:00  None  もくもく会,オンライン,Youtube  participation   \n",
       "3  2021-04-10T08:00:00+09:00  None  もくもく会,オンライン,Youtube  participation   \n",
       "4  2021-04-09T08:00:00+09:00  None  もくもく会,オンライン,Youtube  participation   \n",
       "\n",
       "   accepted  waiting                 updated_at  owner_id owner_nickname  \\\n",
       "0       364        0  2021-04-07T07:28:31+09:00      5763        abenben   \n",
       "1         0        0  2021-04-07T06:44:43+09:00    550491  jl_jimotolabo   \n",
       "2         0        0  2021-04-07T06:44:08+09:00    550491  jl_jimotolabo   \n",
       "3         0        0  2021-04-07T06:43:32+09:00    550491  jl_jimotolabo   \n",
       "4         0        0  2021-04-07T06:42:30+09:00    550491  jl_jimotolabo   \n",
       "\n",
       "  owner_display_name  place address   lat   lon  \n",
       "0              あべんべん  オンライン          None  None  \n",
       "1      jl_jimotolabo   None    None  None  None  \n",
       "2      jl_jimotolabo   None    None  None  None  \n",
       "3      jl_jimotolabo   None    None  None  None  \n",
       "4      jl_jimotolabo   None    None  None  None  "
      ]
     },
     "execution_count": 43,
     "metadata": {},
     "output_type": "execute_result"
    }
   ],
   "source": [
    "df.head()"
   ]
  },
  {
   "cell_type": "code",
   "execution_count": null,
   "id": "initial-medicine",
   "metadata": {},
   "outputs": [],
   "source": []
  }
 ],
 "metadata": {
  "kernelspec": {
   "display_name": "Python 3",
   "language": "python",
   "name": "python3"
  },
  "language_info": {
   "codemirror_mode": {
    "name": "ipython",
    "version": 3
   },
   "file_extension": ".py",
   "mimetype": "text/x-python",
   "name": "python",
   "nbconvert_exporter": "python",
   "pygments_lexer": "ipython3",
   "version": "3.9.2"
  }
 },
 "nbformat": 4,
 "nbformat_minor": 5
}
